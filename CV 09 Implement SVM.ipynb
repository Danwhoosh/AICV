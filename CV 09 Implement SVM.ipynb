{
 "cells": [
  {
   "cell_type": "markdown",
   "id": "c091aac4-0445-4720-8da9-a885c6fde790",
   "metadata": {},
   "source": [
    "## Implement SVM"
   ]
  },
  {
   "cell_type": "code",
   "execution_count": 1,
   "id": "0b718d68-4208-490e-aff0-565ffdf96098",
   "metadata": {},
   "outputs": [],
   "source": [
    "import numpy as np\n",
    "from sklearn import datasets\n",
    "from sklearn.model_selection import train_test_split\n",
    "from sklearn.svm import SVC\n",
    "from sklearn.metrics import accuracy_score"
   ]
  },
  {
   "cell_type": "code",
   "execution_count": 2,
   "id": "b83340ad-4d6e-4618-acc5-7f7bfff87afd",
   "metadata": {},
   "outputs": [],
   "source": [
    "#Create a synthetic dataset for classification (you can replacethiw with your own dataset)\n",
    "\n",
    "x, y = datasets.make_classification(n_samples = 500, n_features = 3, n_informative = 2, n_redundant = 0, random_state = 42)"
   ]
  },
  {
   "cell_type": "code",
   "execution_count": 3,
   "id": "64c2050d-4036-47a6-a33b-ae0e13811938",
   "metadata": {},
   "outputs": [],
   "source": [
    "#Split the dataset in training and testing sets\n",
    "\n",
    "x_train, x_test, y_train, y_test = train_test_split(x, y, test_size = 0.5, random_state = 42)"
   ]
  },
  {
   "cell_type": "code",
   "execution_count": 4,
   "id": "8de3b908-523b-47d4-8f7c-595ee4361f1c",
   "metadata": {},
   "outputs": [],
   "source": [
    "#Create an SVM classifier\n",
    "\n",
    "svm_classifier = SVC(kernel = 'linear', C = 2.0)"
   ]
  },
  {
   "cell_type": "code",
   "execution_count": 5,
   "id": "9e03df29-2c71-4ce6-a88a-2599db18c520",
   "metadata": {},
   "outputs": [
    {
     "data": {
      "text/plain": [
       "SVC(C=2.0, kernel='linear')"
      ]
     },
     "execution_count": 5,
     "metadata": {},
     "output_type": "execute_result"
    }
   ],
   "source": [
    "#Train the SVM classifier on the training data\n",
    "\n",
    "svm_classifier.fit(x_train, y_train)"
   ]
  },
  {
   "cell_type": "code",
   "execution_count": 6,
   "id": "c03b1b23-4a23-46fc-bf82-d00e01bfcde9",
   "metadata": {},
   "outputs": [],
   "source": [
    "#Make predictions on the test data\n",
    "\n",
    "y_pred = svm_classifier.predict(x_test)"
   ]
  },
  {
   "cell_type": "code",
   "execution_count": 7,
   "id": "643b1e51-70d6-4fd7-b473-199de293c5b0",
   "metadata": {},
   "outputs": [
    {
     "name": "stdout",
     "output_type": "stream",
     "text": [
      "Accuracy: 0.856\n"
     ]
    }
   ],
   "source": [
    "#Calculate Accuracy\n",
    "accuracy = accuracy_score(y_test, y_pred)\n",
    "print(\"Accuracy:\", accuracy)"
   ]
  },
  {
   "cell_type": "code",
   "execution_count": null,
   "id": "04d47c4d-cd98-498b-912e-c1423a4d728d",
   "metadata": {},
   "outputs": [],
   "source": []
  }
 ],
 "metadata": {
  "kernelspec": {
   "display_name": "Python 3 (ipykernel)",
   "language": "python",
   "name": "python3"
  },
  "language_info": {
   "codemirror_mode": {
    "name": "ipython",
    "version": 3
   },
   "file_extension": ".py",
   "mimetype": "text/x-python",
   "name": "python",
   "nbconvert_exporter": "python",
   "pygments_lexer": "ipython3",
   "version": "3.9.12"
  }
 },
 "nbformat": 4,
 "nbformat_minor": 5
}
