{
 "cells": [
  {
   "cell_type": "markdown",
   "id": "62c6b543-a51c-47f2-acf2-88940e616fac",
   "metadata": {},
   "source": [
    "## Implementaion of Travelling Sales Person using Heuristic approach"
   ]
  },
  {
   "cell_type": "code",
   "execution_count": 2,
   "id": "492bcfde-32de-4004-b1a8-af439879f135",
   "metadata": {},
   "outputs": [
    {
     "name": "stdout",
     "output_type": "stream",
     "text": [
      "Optimal Tour: [0, 1, 2, 3, 4, 0]\n"
     ]
    }
   ],
   "source": [
    "import math\n",
    "\n",
    "#DEfine a function to calculate the Euclidean distance between 2 points\n",
    "def distance(point1, point2):\n",
    "    return math.sqrt((point1[0] - point2[0]) ** 2 + (point1[1] - point2[1]) ** 2)\n",
    "\n",
    "#Define the Nearest Neighbor algorithm\n",
    "def nearest_neighbor(points):\n",
    "    n = len(points)\n",
    "    unvisited = set(range(n))\n",
    "    tour = [0] #Staret from first point\n",
    "    unvisited.remove(0)\n",
    "    \n",
    "    while unvisited:\n",
    "        current_point = tour[-1]\n",
    "        nearest_point = min(unvisited, key = lambda x: distance(points[current_point], points[x]))\n",
    "        tour.append(nearest_point)\n",
    "        unvisited.remove(nearest_point)\n",
    "        \n",
    "    #Complete the tour by returning to the starting point\n",
    "    tour.append(tour[0])\n",
    "    \n",
    "    return tour\n",
    "\n",
    "#Example usage\n",
    "if __name__ == \"__main__\":\n",
    "    #Define the points as (x, y) coordinates\n",
    "    points = [(0, 0),(1, 2),(2, 3),(3, 4),(4, 2)]\n",
    "    \n",
    "    #Find the tour using the Nearest Neaighbor algorithm\n",
    "    tour = nearest_neighbor(points)\n",
    "    \n",
    "    print(\"Optimal Tour:\", tour)"
   ]
  },
  {
   "cell_type": "code",
   "execution_count": null,
   "id": "016fe2d7-0626-4528-82cc-120ccc28d95b",
   "metadata": {},
   "outputs": [],
   "source": []
  }
 ],
 "metadata": {
  "kernelspec": {
   "display_name": "Python 3 (ipykernel)",
   "language": "python",
   "name": "python3"
  },
  "language_info": {
   "codemirror_mode": {
    "name": "ipython",
    "version": 3
   },
   "file_extension": ".py",
   "mimetype": "text/x-python",
   "name": "python",
   "nbconvert_exporter": "python",
   "pygments_lexer": "ipython3",
   "version": "3.9.12"
  }
 },
 "nbformat": 4,
 "nbformat_minor": 5
}
