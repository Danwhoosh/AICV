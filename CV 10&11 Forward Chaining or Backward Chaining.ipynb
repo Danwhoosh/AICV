{
 "cells": [
  {
   "cell_type": "markdown",
   "id": "386bd7b3-9578-4bd1-8e63-36959cbcfeae",
   "metadata": {},
   "source": [
    "## Forward Chaining or Backward Chaining"
   ]
  },
  {
   "cell_type": "markdown",
   "id": "47c9c004-89eb-4dbd-bdd6-990daaf0959f",
   "metadata": {},
   "source": [
    "## Forward Chaining"
   ]
  },
  {
   "cell_type": "code",
   "execution_count": 1,
   "id": "d5e9c7ae-7462-4370-af47-1779d497bfb2",
   "metadata": {},
   "outputs": [
    {
     "name": "stdout",
     "output_type": "stream",
     "text": [
      "Derived Facts: {'E', 'D', 'C', 'G', 'A'}\n"
     ]
    }
   ],
   "source": [
    "class Rule:\n",
    "    def __init__(self, antecedents, consequent):\n",
    "        self.antecedents = antecedents\n",
    "        self.consequent = consequent\n",
    "        \n",
    "class KnowledgeBase:\n",
    "    def __init__(self):\n",
    "        self.facts = set()\n",
    "        self.rules = []\n",
    "        \n",
    "    def add_fact(self, fact):\n",
    "        self.facts.add(fact)\n",
    "        \n",
    "    def add_rule(self, rule):\n",
    "        self.rules.append(rule)\n",
    "        \n",
    "    def apply_forward_chaining(self):\n",
    "        new_facts_derived = True\n",
    "        while new_facts_derived:\n",
    "            new_facts_derived = False\n",
    "            for rule in self.rules:\n",
    "                if all(antecedents in self.facts for antecedents in rule.antecedents) and rule.consequent not in self.facts:\n",
    "                    self.facts.add(rule.consequent)\n",
    "                    new_facts_derived = True\n",
    "                    \n",
    "if __name__ == \"__main__\":\n",
    "    kb = KnowledgeBase()\n",
    "    \n",
    "    #Define rules and facts\n",
    "    rule1 = Rule([\"A\",\"C\"],\"E\")\n",
    "    rule2 = Rule([\"A\",\"E\"],\"G\")\n",
    "    rule3 = Rule([\"B\"],\"E\")\n",
    "    rule4 = Rule([\"G\"],\"D\")\n",
    "    kb.add_rule(rule1)\n",
    "    kb.add_rule(rule2)\n",
    "    kb.add_rule(rule3)\n",
    "    kb.add_rule(rule4)\n",
    "    kb.add_fact(\"A\")\n",
    "    kb.add_fact(\"C\")\n",
    "    \n",
    "    #Apply forward chaining\n",
    "    kb.apply_forward_chaining()\n",
    "    \n",
    "    #Print the derived facts\n",
    "    print(\"Derived Facts:\", kb.facts)"
   ]
  },
  {
   "cell_type": "markdown",
   "id": "bbbd0849-fe13-4e4e-baee-7118570b1e94",
   "metadata": {},
   "source": [
    "## Backward Chaining"
   ]
  },
  {
   "cell_type": "code",
   "execution_count": null,
   "id": "09598bde-15b4-4449-8975-a3c505624b61",
   "metadata": {},
   "outputs": [],
   "source": [
    "# Define the knowledge base as a dictionary of rules\n",
    "knowledge_base = {\n",
    "    \"rule1\": {\n",
    "        \"if\": [\"A\", \"B\"],\n",
    "        \"then\": \"C\"\n",
    "    },\n",
    "    \"rule2\": {\n",
    "        \"if\": [\"D\"],\n",
    "        \"then\": \"A\"\n",
    "    },\n",
    "    \"rule3\": {\n",
    "        \"if\": [\"E\"],\n",
    "        \"then\": \"B\"\n",
    "    },\n",
    "    \"rule4\": {\n",
    "        \"if\": [\"F\"],\n",
    "        \"then\": \"D\"\n",
    "    },\n",
    "    \"rule5\": {\n",
    "        \"if\": [\"G\"],\n",
    "        \"then\": \"E\"\n",
    "    }\n",
    "}\n",
    "\n",
    "# Define a function to perform backward chaining\n",
    "def backward_chaining(goal, known_facts):\n",
    "    if goal in known_facts:\n",
    "        return True\n",
    "    for rule, value in knowledge_base.items():\n",
    "        if goal == value[\"then\"]:\n",
    "            all_conditions_met = all(condition in known_facts for condition in value[\"if\"])\n",
    "            if all_conditions_met and all(backward_chaining(condition, known_facts) for condition in value[\"if\"]):\n",
    "                return True\n",
    "    return False  # The 'return False' statement should be outside the for loop\n",
    "\n",
    "# Define the goal and known facts\n",
    "goal = \"C\"\n",
    "known_facts = [\"G\", \"F\", \"E\"]\n",
    "\n",
    "# Check if the goal can be reached using backward chaining\n",
    "if backward_chaining(goal, known_facts):\n",
    "    print(f\"The goal '{goal}' can be reached.\")\n",
    "else:\n",
    "    print(f\"The goal '{goal}' cannot be reached.\")\n"
   ]
  }
 ],
 "metadata": {
  "kernelspec": {
   "display_name": "Python 3 (ipykernel)",
   "language": "python",
   "name": "python3"
  },
  "language_info": {
   "codemirror_mode": {
    "name": "ipython",
    "version": 3
   },
   "file_extension": ".py",
   "mimetype": "text/x-python",
   "name": "python",
   "nbconvert_exporter": "python",
   "pygments_lexer": "ipython3",
   "version": "3.9.12"
  }
 },
 "nbformat": 4,
 "nbformat_minor": 5
}
